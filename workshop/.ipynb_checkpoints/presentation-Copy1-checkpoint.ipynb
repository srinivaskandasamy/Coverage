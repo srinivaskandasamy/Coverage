{
 "cells": [
  {
   "cell_type": "code",
   "execution_count": 1,
   "metadata": {
    "collapsed": false,
    "slideshow": {
     "slide_type": "skip"
    }
   },
   "outputs": [
    {
     "data": {
      "text/html": [
       "<script>\n",
       "code_show=true; \n",
       "function code_toggle() {\n",
       " if (code_show){\n",
       " $('div.input').hide();\n",
       " } else {\n",
       " $('div.input').show();\n",
       " }\n",
       " code_show = !code_show\n",
       "} \n",
       "$( document ).ready(code_toggle);\n",
       "</script>\n",
       "The raw code for this IPython notebook is by default hidden for easier reading.\n",
       "To toggle on/off the raw code, click <a href=\"javascript:code_toggle()\">here</a>."
      ],
      "text/plain": [
       "<IPython.core.display.HTML object>"
      ]
     },
     "execution_count": 1,
     "metadata": {},
     "output_type": "execute_result"
    }
   ],
   "source": [
    "from IPython.display import HTML\n",
    "HTML('''<script>\n",
    "code_show=true; \n",
    "function code_toggle() {\n",
    " if (code_show){\n",
    " $('div.input').hide();\n",
    " } else {\n",
    " $('div.input').show();\n",
    " }\n",
    " code_show = !code_show\n",
    "} \n",
    "$( document ).ready(code_toggle);\n",
    "</script>\n",
    "The raw code for this IPython notebook is by default hidden for easier reading.\n",
    "To toggle on/off the raw code, click <a href=\"javascript:code_toggle()\">here</a>.''')"
   ]
  },
  {
   "cell_type": "code",
   "execution_count": 1,
   "metadata": {
    "collapsed": false,
    "slideshow": {
     "slide_type": "skip"
    }
   },
   "outputs": [
    {
     "data": {
      "text/plain": [
       "{u'height': 1024,\n",
       " u'start_slideshow_at': 'selected',\n",
       " u'theme': 'league',\n",
       " u'transition': 'zoom',\n",
       " u'width': 1200}"
      ]
     },
     "execution_count": 1,
     "metadata": {},
     "output_type": "execute_result"
    }
   ],
   "source": [
    "#simple, white, league\n",
    "from IPython.html.services.config import ConfigManager\n",
    "from IPython.utils.path import locate_profile\n",
    "cm = ConfigManager(profile_dir=locate_profile(get_ipython().profile))\n",
    "cm.update('livereveal', {\n",
    "              'theme': 'league',\n",
    "              'transition': 'zoom',\n",
    "              'start_slideshow_at': 'selected',\n",
    "              'width': 1200,\n",
    "              'height': 1024,\n",
    "})"
   ]
  },
  {
   "cell_type": "markdown",
   "metadata": {
    "slideshow": {
     "slide_type": "slide"
    }
   },
   "source": [
    "<img src=\"TU_LOGO.png\" alt=\"TU Delft\" width=\"30%\" align=\"right\" border=\"4\"><br><br><br><br>\n",
    "<h3 align=\"center\">SLAMming with Spheros</h3>\n",
    "\n",
    "<div style=\"text-align:center;\"> Srinivas Kandasamy<div><br />\n",
    "\n",
    "<div style=\"text-align:center;\">Advisor: Dr. Tam&#225;s Keviczky<div><br/>\n",
    "<div style=\"text-align:center;\">Delft Center for Systems and Control<div>"
   ]
  },
  {
   "cell_type": "markdown",
   "metadata": {
    "slideshow": {
     "slide_type": "slide"
    }
   },
   "source": [
    "## Outline"
   ]
  },
  {
   "cell_type": "markdown",
   "metadata": {
    "slideshow": {
     "slide_type": "fragment"
    }
   },
   "source": [
    "- Introduction"
   ]
  },
  {
   "cell_type": "markdown",
   "metadata": {
    "slideshow": {
     "slide_type": "slide"
    }
   },
   "source": [
    "## Introduction"
   ]
  },
  {
   "cell_type": "markdown",
   "metadata": {
    "slideshow": {
     "slide_type": "fragment"
    }
   },
   "source": [
    "\"SLAM asks for a mobile robot, placed at an unknown location in an unknown environment, to build a consistent map of the environment while simultaneously determine its location within this map.\""
   ]
  },
  {
   "cell_type": "markdown",
   "metadata": {
    "slideshow": {
     "slide_type": "subslide"
    }
   },
   "source": [
    "### Illustration of SLAM\n",
    "<img style=\"padding-left:50px;\" src=\"./images/slam_example1.png\" alt=\"Figure 1\" width=\"60%\" align=\"center\">"
   ]
  },
  {
   "cell_type": "markdown",
   "metadata": {
    "slideshow": {
     "slide_type": "subslide"
    }
   },
   "source": [
    "### Measurement Step\n",
    "<img style=\"padding-left:50px;\" src=\"./images/slam_example2.png\" alt=\"Figure 2\" width=\"60%\" align=\"center\">"
   ]
  },
  {
   "cell_type": "markdown",
   "metadata": {
    "slideshow": {
     "slide_type": "subslide"
    }
   },
   "source": [
    "### Update Step\n",
    "<img style=\"padding-left:50px;\" src=\"./images/slam_example3.png\" alt=\"Figure 3\" width=\"60%\" align=\"center\">"
   ]
  },
  {
   "cell_type": "markdown",
   "metadata": {
    "slideshow": {
     "slide_type": "subslide"
    }
   },
   "source": [
    "### Prediction Step\n",
    "<img style=\"padding-left:50px;\" src=\"./images/slam_example4.png\" alt=\"Figure 4\" width=\"60%\" align=\"center\">"
   ]
  },
  {
   "cell_type": "markdown",
   "metadata": {
    "slideshow": {
     "slide_type": "subslide"
    }
   },
   "source": [
    "### Measurement Step\n",
    "<img style=\"padding-left:50px;\" src=\"./images/slam_example5.png\" alt=\"Figure 5\" width=\"60%\" align=\"center\">"
   ]
  },
  {
   "cell_type": "markdown",
   "metadata": {
    "slideshow": {
     "slide_type": "subslide"
    }
   },
   "source": [
    "### Update Step\n",
    "<img style=\"padding-left:50px;\" src=\"./images/slam_example6.png\" alt=\"Figure 6\" width=\"60%\" align=\"center\">"
   ]
  },
  {
   "cell_type": "markdown",
   "metadata": {
    "slideshow": {
     "slide_type": "subslide"
    }
   },
   "source": [
    "### Prediction Step\n",
    "<img style=\"padding-left:50px;\" src=\"./images/slam_example7.png\" alt=\"Figure 7\" width=\"60%\" align=\"center\">"
   ]
  },
  {
   "cell_type": "markdown",
   "metadata": {
    "slideshow": {
     "slide_type": "subslide"
    }
   },
   "source": [
    "### Measurement Step\n",
    "<img style=\"padding-left:50px;\" src=\"./images/slam_example8.png\" alt=\"Figure 8\" width=\"60%\" align=\"center\">"
   ]
  },
  {
   "cell_type": "markdown",
   "metadata": {
    "slideshow": {
     "slide_type": "subslide"
    }
   },
   "source": [
    "### Update Step\n",
    "<img style=\"padding-left:50px;\" src=\"./images/slam_example9.png\" alt=\"Figure 9\" width=\"60%\" align=\"center\">"
   ]
  },
  {
   "cell_type": "markdown",
   "metadata": {
    "slideshow": {
     "slide_type": "slide"
    }
   },
   "source": [
    "### A Concise definition\n",
    "\n",
    "- Using the knowledge of observations and control inputs, and\n",
    "- Initial location of robot is assumed to be known\n",
    "\n",
    "The robot has to \n",
    "\n",
    "- Build a map of the environment and\n",
    "- Infer the robot location or trajectory\n",
    "\n",
    "Note that the two inference problems are coupled."
   ]
  },
  {
   "cell_type": "markdown",
   "metadata": {
    "slideshow": {
     "slide_type": "subslide"
    }
   },
   "source": [
    "### Chicken-or-Egg nature of SLAM\n",
    "\n",
    "- Inference on two coupled variables from a measurement - Hardness\n",
    "    - A map is needed for localizing the robot\n",
    "    - A good pose estimate is needed to build a map\n",
    "- Decoupled SLAM problem\n",
    "    - Previously addressed as separate problems\n",
    "    - Random walk behaviour in solution"
   ]
  },
  {
   "cell_type": "markdown",
   "metadata": {
    "slideshow": {
     "slide_type": "subslide"
    }
   },
   "source": [
    "### Chicken-or-Egg nature of SLAM\n",
    "\n",
    "- Converging solution if dealt as a coupled problem\n",
    "- Inherent coupling through robot pose uncertainty - Tractability of SLAM"
   ]
  },
  {
   "cell_type": "markdown",
   "metadata": {
    "slideshow": {
     "slide_type": "slide"
    }
   },
   "source": [
    "<h3 align=\"center\">An impact-based approach to Simultaneous Localization and Mapping</h3> "
   ]
  },
  {
   "cell_type": "markdown",
   "metadata": {
    "slideshow": {
     "slide_type": "subslide"
    }
   },
   "source": [
    "<img style=\"padding-left:125px;\" src=\"./images/impact_slam.png\" alt=\"Impact SLAM\" width=\"80%\" align=\"center\">"
   ]
  },
  {
   "cell_type": "markdown",
   "metadata": {
    "slideshow": {
     "slide_type": "slide"
    }
   },
   "source": [
    "## Outline\n",
    "\n",
    "- Introduction\n",
    "- Approaches"
   ]
  },
  {
   "cell_type": "markdown",
   "metadata": {
    "slideshow": {
     "slide_type": "subslide"
    }
   },
   "source": [
    "## Approaches to solve SLAM\n",
    "\n",
    "- Online Estimation\n",
    "\n",
    "- Offline optimization"
   ]
  },
  {
   "cell_type": "markdown",
   "metadata": {
    "slideshow": {
     "slide_type": "notes"
    }
   },
   "source": [
    "Before I delve into the various approaches for solving SLAM, let us have a look at the Bayesian model of SLAM.  "
   ]
  },
  {
   "cell_type": "markdown",
   "metadata": {
    "slideshow": {
     "slide_type": "subslide"
    }
   },
   "source": [
    "## Bayesian model of SLAM\n",
    "<img style=\"padding-left:100px;\" src=\"./images/pf_dbnp.png\" alt=\"Bayesian SLAM\" width=\"100%\" align=\"center\">"
   ]
  },
  {
   "cell_type": "markdown",
   "metadata": {
    "slideshow": {
     "slide_type": "subslide"
    }
   },
   "source": [
    "## Factored version of SLAM\n",
    "<img style=\"padding-left:100px;\" src=\"./images/pf_dbn.png\" alt=\"Conditioned SLAM\" width=\"100%\" align=\"center\">"
   ]
  },
  {
   "cell_type": "markdown",
   "metadata": {
    "slideshow": {
     "slide_type": "subslide"
    }
   },
   "source": [
    "### Online Estimation problem"
   ]
  },
  {
   "cell_type": "raw",
   "metadata": {
    "slideshow": {
     "slide_type": "notes"
    }
   },
   "source": [
    "In this talk, I will restrict to the state-of-the-art version of online SLAM. This method has reached the highest popularity in autonomous mobile robotics, and are currently in use for autonomous cars."
   ]
  },
  {
   "cell_type": "markdown",
   "metadata": {
    "slideshow": {
     "slide_type": "fragment"
    }
   },
   "source": [
    "- Exploits exact conditional independence of SLAM\n",
    "- Factored Solution \n",
    "    - Robot localization problem\n",
    "    - Collection of landmark estimation problems\n",
    "- Incorporates nonlinearities  in the probability distribution of robot location and map features"
   ]
  },
  {
   "cell_type": "markdown",
   "metadata": {
    "slideshow": {
     "slide_type": "subslide"
    }
   },
   "source": [
    "### Offline Optimization problem"
   ]
  },
  {
   "cell_type": "markdown",
   "metadata": {
    "slideshow": {
     "slide_type": "fragment"
    }
   },
   "source": [
    "- Joint estimation of robot location and map features\n",
    "- Maintains the full set of correlations through covariance or information matrix\n",
    "- Gaussian distribution over robot location and map features"
   ]
  },
  {
   "cell_type": "markdown",
   "metadata": {
    "slideshow": {
     "slide_type": "notes"
    }
   },
   "source": [
    "The NLSO method cannot deal with the nonlinearities in the robot's pose distribution due to wall constraints, as well as the nonlinearities in the map features due to end points of wall. This might result in a poor result, despite the efficiency in computation and intuitive implementation. \n",
    "\n",
    "The FastSLAM method, on the other hand, can deal with nonlinear non-Gaussian distributions, at any level of computation and is known for it simplicity and accuracy of the map generated. However, this comes at the expense of computational inefficiency. "
   ]
  },
  {
   "cell_type": "markdown",
   "metadata": {
    "slideshow": {
     "slide_type": "subslide"
    }
   },
   "source": [
    "### A simple non-Gaussian distribution\n",
    "<img style= src=\"./images/hist_sample.png\" alt=\"Non-Gaussian distribution\" width=\"60%\" align=\"center\">"
   ]
  },
  {
   "cell_type": "markdown",
   "metadata": {
    "slideshow": {
     "slide_type": "notes"
    }
   },
   "source": [
    "A simple non-Gaussian distribution showing the impact information of the ball on the wall"
   ]
  },
  {
   "cell_type": "markdown",
   "metadata": {
    "slideshow": {
     "slide_type": "slide"
    }
   },
   "source": [
    "## Outline\n",
    "\n",
    "- Introduction\n",
    "- Approaches\n",
    "- Promising one"
   ]
  },
  {
   "cell_type": "markdown",
   "metadata": {
    "slideshow": {
     "slide_type": "subslide"
    }
   },
   "source": [
    "## FastSLAM\n",
    "\n",
    "- Probability distribution as random samples\n",
    "- Path estimation using particle filter\n",
    "- Landmark location estimation using low-dimensional EKFs"
   ]
  },
  {
   "cell_type": "markdown",
   "metadata": {
    "slideshow": {
     "slide_type": "fragment"
    }
   },
   "source": [
    "$$ P(X_{0:k},m|Z_{0:k},U_{0:k})\\sim\\left\\lbrace w_k^{(i)}\\,,\\,X^{(i)}_{0:k}\\,,\\,\\prod_j^{M}P(m_j|X^{(i)}_{0:k},Z_{0:k})\\right\\rbrace_i^N $$"
   ]
  },
  {
   "cell_type": "markdown",
   "metadata": {
    "slideshow": {
     "slide_type": "subslide"
    }
   },
   "source": [
    "<img style=\"padding-top:100px;\" src=\"./images/algorithm.jpg\" alt=\"FastSLAM\" width=\"95%\" align=\"center\">"
   ]
  },
  {
   "cell_type": "markdown",
   "metadata": {
    "slideshow": {
     "slide_type": "notes"
    }
   },
   "source": [
    "Before going on to implement the algorithm, we have to define what kind of map are we going to create, or in short, the representation of the environment. In the previous illustration, I consider a simple environment of distinct point landmarks. But the environment can turn out to be more complex, where landmarks may not be unique and can have multiple similar landmarks. A key part in implementing SLAM is the feature definition of the map, which primarily depends upon the robot, the sensors used and the environmental situation.   "
   ]
  },
  {
   "cell_type": "markdown",
   "metadata": {
    "slideshow": {
     "slide_type": "slide"
    }
   },
   "source": [
    "## Outline\n",
    "\n",
    "- Introduction\n",
    "- Approaches\n",
    "- Promising one\n",
    "- Environment representation"
   ]
  },
  {
   "cell_type": "markdown",
   "metadata": {
    "slideshow": {
     "slide_type": "subslide"
    }
   },
   "source": [
    "### Environment representation\n",
    "\n",
    "- Point landmarks\n",
    "    - Every collision is a landmark\n",
    "    - Kalman filter for every collision \n",
    "    - Problem in data association - Difficulty in correction of landmarks on multiple sightings\n",
    "- Occupancy grid map\n",
    "    - Map as an occupany grid\n",
    "    - Huge bookkeeping"
   ]
  },
  {
   "cell_type": "markdown",
   "metadata": {
    "slideshow": {
     "slide_type": "subslide"
    }
   },
   "source": [
    "### Point landmarks for SLAM"
   ]
  },
  {
   "cell_type": "code",
   "execution_count": 3,
   "metadata": {
    "collapsed": false,
    "slideshow": {
     "slide_type": "fragment"
    }
   },
   "outputs": [],
   "source": [
    "# Python code for SLAM with point landmarks\n",
    "%run ../../New_world/ball_in_a_room.ipynb"
   ]
  },
  {
   "cell_type": "markdown",
   "metadata": {
    "slideshow": {
     "slide_type": "subslide"
    }
   },
   "source": [
    "### Resulting map of the environment\n",
    "<img style= src=\"./images/traj_est.png\" alt=\"Estimated trajectory\" width=\"50%\" align=\"center\">"
   ]
  },
  {
   "cell_type": "markdown",
   "metadata": {
    "slideshow": {
     "slide_type": "subslide"
    }
   },
   "source": [
    "### Shortcomings with point landmarks\n",
    "\n",
    "- Not a single landmark update \n",
    "- Updated step to be modified \n",
    "    - Selective update of covariance matrix in respective orthogonal space\n",
    "    - Brittle method\n",
    "- Gaussian mixture models\n",
    "    - Difficulty in pruning data\n",
    "- Need a better way to initialize a feature"
   ]
  },
  {
   "cell_type": "markdown",
   "metadata": {
    "slideshow": {
     "slide_type": "subslide"
    }
   },
   "source": [
    "### Feature Initialization\n",
    "\n",
    "- Strike a mid-level between the two \n",
    "- Wall regarded as a landmark\n",
    "- Each face of the wall as a feature of landmark\n",
    "- Rasterize the landmark into a resulting histogram\n",
    "- Use discrete Bayes filter to build the map"
   ]
  },
  {
   "cell_type": "code",
   "execution_count": 7,
   "metadata": {
    "collapsed": false,
    "scrolled": false,
    "slideshow": {
     "slide_type": "subslide"
    }
   },
   "outputs": [
    {
     "data": {
      "image/png": "[encoded data removed]",
      "text/plain": [
       "<matplotlib.figure.Figure at 0xb8b20b8>"
      ]
     },
     "metadata": {},
     "output_type": "display_data"
    },
    {
     "data": {
      "image/png": "[encoded data removed]",
      "text/plain": [
       "<matplotlib.figure.Figure at 0xe13c470>"
      ]
     },
     "metadata": {},
     "output_type": "display_data"
    },
    {
     "data": {
      "image/png": "[encoded data removed]",
      "text/plain": [
       "<matplotlib.figure.Figure at 0xbebca20>"
      ]
     },
     "metadata": {},
     "output_type": "display_data"
    },
    {
     "data": {
      "image/png": "[encoded data removed]",
      "text/plain": [
       "<matplotlib.figure.Figure at 0xc18e198>"
      ]
     },
     "metadata": {},
     "output_type": "display_data"
    },
    {
     "name": "stdout",
     "output_type": "stream",
     "text": [
      "Final look of the wall in map\n"
     ]
    },
    {
     "data": {
      "image/png": "[encoded data removed]",
      "text/plain": [
       "<matplotlib.figure.Figure at 0xc3992b0>"
      ]
     },
     "metadata": {},
     "output_type": "display_data"
    }
   ],
   "source": [
    "# Python code for histogram filter\n",
    "%run ../../New_world/histogram_filter_wall_hypothesis.ipynb"
   ]
  },
  {
   "cell_type": "markdown",
   "metadata": {
    "slideshow": {
     "slide_type": "slide"
    }
   },
   "source": [
    "## myFastSLAM"
   ]
  },
  {
   "cell_type": "markdown",
   "metadata": {
    "slideshow": {
     "slide_type": "fragment"
    }
   },
   "source": [
    "#### Exploiting the structure \n",
    "- Conditional independence in SLAM\n",
    "- Orthogonality in mapping space results in use of \n",
    "    - low dimensional KF \n",
    "    - histogram filters "
   ]
  },
  {
   "cell_type": "markdown",
   "metadata": {
    "slideshow": {
     "slide_type": "subslide"
    }
   },
   "source": [
    "## myFastSLAM"
   ]
  },
  {
   "cell_type": "markdown",
   "metadata": {
    "slideshow": {
     "slide_type": "fragment"
    }
   },
   "source": [
    "#### Map estimation\n",
    "- Features clubbed into a landmark\n",
    "    - KF to estimate position\n",
    "    - Histogram filter\n",
    "        - Encode collision information\n",
    "        - Propagate with discrete Bayes filter\n",
    "        - Pruning and merging information\n",
    "- Incorporates usual indoor map constraints"
   ]
  },
  {
   "cell_type": "markdown",
   "metadata": {
    "slideshow": {
     "slide_type": "subslide"
    }
   },
   "source": [
    "## myFastSLAM"
   ]
  },
  {
   "cell_type": "markdown",
   "metadata": {
    "slideshow": {
     "slide_type": "fragment"
    }
   },
   "source": [
    "#### Path estimation using particle filter\n",
    "- Nothing has changed\n",
    "- Discount old measurements to improve computational efficiency\n",
    "- Adaptive resampling to reduce degeneracy\n",
    "    - Frequent loop closures\n",
    "    - Improves consistency of estimates"
   ]
  },
  {
   "cell_type": "markdown",
   "metadata": {
    "slideshow": {
     "slide_type": "slide"
    }
   },
   "source": [
    "## myFastSLAM tweaks\n",
    "\n",
    "1. Each hypothesis is defined as a tree data structure, for logarithmic search and memory requirements\n",
    "2. The leaf nodes of the tree contain the individual features of the map.\n",
    "3. The leaf nodes are propagated over the set of measurements in the algorithms, first through Kalman filter and then over a discrete Bayes filter.\n",
    "4. Inclusion of measurements in the prediction step of filter to reduce degeneracy"
   ]
  },
  {
   "cell_type": "markdown",
   "metadata": {
    "slideshow": {
     "slide_type": "slide"
    }
   },
   "source": [
    "## myFastSLAM - Offline version"
   ]
  },
  {
   "cell_type": "code",
   "execution_count": null,
   "metadata": {
    "collapsed": false,
    "scrolled": true,
    "slideshow": {
     "slide_type": "fragment"
    }
   },
   "outputs": [],
   "source": [
    "# Python code for offline verion of myFastSLAM\n",
    "%run ../mayw3/slam.ipynb"
   ]
  },
  {
   "cell_type": "markdown",
   "metadata": {
    "slideshow": {
     "slide_type": "slide"
    }
   },
   "source": [
    "## myFastSLAM - Online version"
   ]
  },
  {
   "cell_type": "code",
   "execution_count": null,
   "metadata": {
    "collapsed": true,
    "slideshow": {
     "slide_type": "fragment"
    }
   },
   "outputs": [],
   "source": [
    "# Python code for the online version of myFastSLAM\n",
    "%run ../../New_world/ball_in_the_lab.ipynb"
   ]
  },
  {
   "cell_type": "markdown",
   "metadata": {
    "slideshow": {
     "slide_type": "slide"
    }
   },
   "source": [
    "## Outline\n",
    "\n",
    "- Introduction\n",
    "- Approaches\n",
    "- Promising one\n",
    "- Environment representation\n",
    "- Data Association"
   ]
  },
  {
   "cell_type": "markdown",
   "metadata": {
    "slideshow": {
     "slide_type": "subslide"
    }
   },
   "source": [
    "## Data Association\n",
    "\n",
    "- Association of new measurement to existing map\n",
    "- Nearest Neighbour approach\n",
    "- Robust to feature correspondences\n",
    "- Decision made on a per-particle basis"
   ]
  },
  {
   "cell_type": "markdown",
   "metadata": {
    "slideshow": {
     "slide_type": "slide"
    }
   },
   "source": [
    "## Conclusion\n",
    "\n",
    "1. A new map representation is adopted for FastSLAM, suited for indoor environments\n",
    "2. The maps are propagated iteratively through Kalman filter and Discrete Bayes filter\n",
    "3. Nearest Neighbour approach is found to be robust for data association in FastSLAM\n",
    "4. A new version of FastSLAM algorithm is developed for the impact-based SLAM and it will be soon implemented on a practical setup"
   ]
  }
 ],
 "metadata": {
  "celltoolbar": "Slideshow",
  "kernelspec": {
   "display_name": "Python 2",
   "language": "python",
   "name": "python2"
  },
  "language_info": {
   "codemirror_mode": {
    "name": "ipython",
    "version": 2
   },
   "file_extension": ".py",
   "mimetype": "text/x-python",
   "name": "python",
   "nbconvert_exporter": "python",
   "pygments_lexer": "ipython2",
   "version": "2.7.8"
  }
 },
 "nbformat": 4,
 "nbformat_minor": 0
}

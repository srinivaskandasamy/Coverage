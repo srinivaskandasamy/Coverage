{
 "cells": [
  {
   "cell_type": "markdown",
   "metadata": {},
   "source": [
    "SLAMming with Spheros\n",
    "=====\n",
    "\n",
    "##### IPython Notebook\n",
    "\n",
    "The complete GitHub repository is available at [Coverage](https://github.com/srinivaskandasamy/Coverage/tree/master/marchw3)"
   ]
  },
  {
   "cell_type": "markdown",
   "metadata": {},
   "source": [
    "Weekly Report\n",
    "====\n",
    "***\n",
    "\n",
    "Thursday, March $26^{th}$, 2015\n",
    "----\n",
    "\n",
    "### Meeting with Tamas\n",
    "\n",
    "1. Collision detection - Noisy accelerometer data and in addition, axis coupling\n",
    "2. Collision as features\n",
    "    - EKF, UKF, PF\n",
    "    - Feature detection is complicated with this amount of noise and false detection\n",
    "    - One possible way out is to create a hypothesis tree using either vertex propagation (exponential blow up - can be limited using dense feature extraction) or edge propagation (less than polynomial growth)\n",
    "    - Last possible attempt is to use occupancy grid mapping\n",
    "3. False detection can be reduced at lower speeds\n",
    "4. Possibility of false detection due to loss of calibration in previous collision\n",
    "    - recalibration inside the sphero (server side)\n",
    "    - adjustment of orientation for every collision (client side)\n",
    "5. Wooden boundaries - Coming soon!"
   ]
  },
  {
   "cell_type": "markdown",
   "metadata": {},
   "source": [
    "Friday and Monday, March $27^{th} \\& \\, 30^{th}$, 2015\n",
    "----\n",
    "\n",
    "### Sphero measurement data\n",
    "1. Saved the measurements from Sphero for future use\n",
    "2. Animated plot to be compared with camera data in future"
   ]
  },
  {
   "cell_type": "code",
   "execution_count": null,
   "metadata": {
    "collapsed": true
   },
   "outputs": [],
   "source": [
    "# Python code for Sphero measurement data (creashes for huge data)\n",
    "%run Sphero_measurement.ipnb"
   ]
  },
  {
   "cell_type": "markdown",
   "metadata": {},
   "source": [
    "Tuesday, March $31^{st}$, 2015\n",
    "----\n",
    "\n",
    "### Camera data \n",
    "1. Comapred on excel\n",
    "2. Data too large for plotting it on Python\n",
    "3. Sphero odometry (on comparison with camera data) gets stuck on corner collisions\n",
    "\n",
    "### Sphero object\n",
    "1. Created Sphero object with Segway model- to be used for GUI later\n",
    "2. Need to create an Finite State Machine with orientation switching on collisions"
   ]
  },
  {
   "cell_type": "markdown",
   "metadata": {},
   "source": [
    "#### Plot of camera data of the world\n",
    "\n",
    "<img src=\"camera_plot.png\">"
   ]
  },
  {
   "cell_type": "markdown",
   "metadata": {},
   "source": [
    "Wednesday, April $1^{st}$, 2015\n",
    "----\n",
    "\n",
    "### SLAM Simulation\n",
    "1. Started to create an artificial world\n",
    "2. GUI vs. Plotting as figures\n",
    "3. Former is more compatible with simulation as well as with real Spheros\n",
    "4. Later is faster to plot but more complex to create world and objects\n",
    "5. Started to create boundary objects"
   ]
  },
  {
   "cell_type": "markdown",
   "metadata": {},
   "source": [
    "Thursday, April $2^{nd}$, 2015\n",
    "----\n",
    "\n",
    "### SLAM Simulation\n",
    "1. Created an artificial world on GUI\n",
    "2. Boundaries with histogram creation to obtain a histogram of collision on walls\n",
    "3. Create wall objects and added Sphero object\n",
    "4. I promise you an animated one next time :)"
   ]
  },
  {
   "cell_type": "code",
   "execution_count": 7,
   "metadata": {
    "collapsed": true
   },
   "outputs": [],
   "source": [
    "# Python GUI code for artificial world\n",
    "%run my_world.ipynb"
   ]
  },
  {
   "cell_type": "code",
   "execution_count": 5,
   "metadata": {
    "collapsed": false
   },
   "outputs": [
    {
     "data": {
      "text/html": [
       "<style>\n",
       "    @font-face {\n",
       "        font-family: \"Computer Modern\";\n",
       "        src: url('http://9dbb143991406a7c655e-aa5fcb0a5a4ec34cff238a2d56ca4144.r56.cf5.rackcdn.com/cmunss.otf');\n",
       "    }\n",
       "    @font-face {\n",
       "        font-family: \"Computer Modern\";\n",
       "        font-weight: bold;\n",
       "        src: url('http://9dbb143991406a7c655e-aa5fcb0a5a4ec34cff238a2d56ca4144.r56.cf5.rackcdn.com/cmunsx.otf');\n",
       "    }\n",
       "    @font-face {\n",
       "        font-family: \"Computer Modern\";\n",
       "        font-style: oblique;\n",
       "        src: url('http://9dbb143991406a7c655e-aa5fcb0a5a4ec34cff238a2d56ca4144.r56.cf5.rackcdn.com/cmunsi.otf');\n",
       "    }\n",
       "    @font-face {\n",
       "        font-family: \"Computer Modern\";\n",
       "        font-weight: bold;\n",
       "        font-style: oblique;\n",
       "        src: url('http://9dbb143991406a7c655e-aa5fcb0a5a4ec34cff238a2d56ca4144.r56.cf5.rackcdn.com/cmunso.otf');\n",
       "    }\n",
       "    div.cell{\n",
       "        width:800px;\n",
       "        margin-left:16% !important;\n",
       "        margin-right:auto;\n",
       "    }\n",
       "    h1 {\n",
       "        font-family: Helvetica, serif;\n",
       "    }\n",
       "    h4{\n",
       "        margin-top:12px;\n",
       "        margin-bottom: 3px;\n",
       "       }\n",
       "    div.text_cell_render{\n",
       "        font-family: Computer Modern, \"Helvetica Neue\", Arial, Helvetica, Geneva, sans-serif;\n",
       "        line-height: 145%;\n",
       "        font-size: 130%;\n",
       "        width:800px;\n",
       "        margin-left:auto;\n",
       "        margin-right:auto;\n",
       "    }\n",
       "    .CodeMirror{\n",
       "            font-family: \"Source Code Pro\", source-code-pro,Consolas, monospace;\n",
       "    }\n",
       "    .prompt{\n",
       "        display: None;\n",
       "    }\n",
       "    .text_cell_render h5 {\n",
       "        font-weight: 300;\n",
       "        font-size: 22pt;\n",
       "        color: #4057A1;\n",
       "        font-style: italic;\n",
       "        margin-bottom: .5em;\n",
       "        margin-top: 0.5em;\n",
       "        display: block;\n",
       "    }\n",
       "    \n",
       "    .warning{\n",
       "        color: rgb( 240, 20, 20 )\n",
       "        }  \n",
       "</style>\n",
       "<script>\n",
       "    MathJax.Hub.Config({\n",
       "                        TeX: {\n",
       "                           extensions: [\"AMSmath.js\"]\n",
       "                           },\n",
       "                tex2jax: {\n",
       "                    inlineMath: [ ['$','$'], [\"\\\\(\",\"\\\\)\"] ],\n",
       "                    displayMath: [ ['$$','$$'], [\"\\\\[\",\"\\\\]\"] ]\n",
       "                },\n",
       "                displayAlign: 'center', // Change this to 'center' to center equations.\n",
       "                \"HTML-CSS\": {\n",
       "                    styles: {'.MathJax_Display': {\"margin\": 4}}\n",
       "                }\n",
       "        });\n",
       "</script>\n"
      ],
      "text/plain": [
       "<IPython.core.display.HTML object>"
      ]
     },
     "execution_count": 5,
     "metadata": {},
     "output_type": "execute_result"
    }
   ],
   "source": [
    "from IPython.core.display import HTML\n",
    "\n",
    "\n",
    "def css_styling():\n",
    "    styles = open(\"../styles/custom.css\", \"r\").read()\n",
    "    return HTML(styles)\n",
    "css_styling()"
   ]
  }
 ],
 "metadata": {
  "kernelspec": {
   "display_name": "Python 2",
   "language": "python",
   "name": "python2"
  },
  "language_info": {
   "codemirror_mode": {
    "name": "ipython",
    "version": 2
   },
   "file_extension": ".py",
   "mimetype": "text/x-python",
   "name": "python",
   "nbconvert_exporter": "python",
   "pygments_lexer": "ipython2",
   "version": "2.7.8"
  }
 },
 "nbformat": 4,
 "nbformat_minor": 0
}

{
 "cells": [
  {
   "cell_type": "code",
   "execution_count": 37,
   "metadata": {
    "collapsed": false
   },
   "outputs": [],
   "source": [
    "# Loading the data from the .dat file obtained from Sphero sensors\n",
    "import numpy as np\n",
    "import os\n",
    "g = np.loadtxt(r'C:\\Users\\localadmin.TUD0035314\\Documents\\GitHub\\Coverage\\aprilw2\\set3_WW10x\\odomdata.dat')\n",
    "h = np.loadtxt(r'C:\\Users\\localadmin.TUD0035314\\Documents\\GitHub\\Coverage\\aprilw2\\set3_WW10x\\collipydata.dat')\n",
    "f = g[0:len(g)].T\n",
    "j = h[0:len(h)].T\n",
    "xdata = f[0] # x coordinate of the trajectory\n",
    "ydata = f[1] # y coordinate of the trajectory"
   ]
  },
  {
   "cell_type": "code",
   "execution_count": null,
   "metadata": {
    "collapsed": false
   },
   "outputs": [],
   "source": [
    "\"\"\" A much faster animation than the one above \"\"\"\n",
    "from IPython import display\n",
    "import matplotlib.pyplot as plt\n",
    "import time\n",
    "%matplotlib inline\n",
    "\n",
    "fig = plt.figure(figsize=(12,12), dpi=100)\n",
    "background = fig.canvas.copy_from_bbox(ax1.bbox)\n",
    "plt.ion()\n",
    "ax1 = fig.add_subplot(1,1,1)\n",
    "ax1.set_xlim(min(xdata)-100,max(xdata)+100)\n",
    "ax1.set_ylim(min(ydata)-100,max(ydata)+100)\n",
    "ax1.set_xlabel('x position')\n",
    "ax1.set_ylabel('y position')\n",
    "ax1.set_title('True position of the Robot')\n",
    "ax1.grid()\n",
    "line, = ax1.plot(xdata,ydata,'-',alpha=0.7)\n",
    "line1, = ax1.plot(xdata,ydata,'o',alpha=0.8)\n",
    "\n",
    "cur_time=time.time()\n",
    "count = 0\n",
    "xcoll=[]\n",
    "ycoll=[]\n",
    "for i in range(len(xdata)):\n",
    "    if f[-1][i] == j[-1][count]:\n",
    "        xcoll.append(xdata[i])\n",
    "        ycoll.append(ydata[i])\n",
    "        line1.set_xdata(xcoll[0:i])\n",
    "        line1.set_ydata(ycoll[0:i])\n",
    "        count = (count+1)%len(j[7][0:-1])\n",
    "    fig.canvas.restore_region(background)\n",
    "    fig.canvas.blit(ax1.bbox)\n",
    "    line.set_xdata(xdata[0:i])\n",
    "    line.set_ydata(ydata[0:i])\n",
    "    display.clear_output(wait=True)\n",
    "    display.display(pl.gcf())\n",
    "    ax1.hold(True)\n",
    "print \"Time taken is\",time.time()-cur_time"
   ]
  }
 ],
 "metadata": {
  "kernelspec": {
   "display_name": "Python 2",
   "language": "python",
   "name": "python2"
  },
  "language_info": {
   "codemirror_mode": {
    "name": "ipython",
    "version": 2
   },
   "file_extension": ".py",
   "mimetype": "text/x-python",
   "name": "python",
   "nbconvert_exporter": "python",
   "pygments_lexer": "ipython2",
   "version": "2.7.8"
  }
 },
 "nbformat": 4,
 "nbformat_minor": 0
}

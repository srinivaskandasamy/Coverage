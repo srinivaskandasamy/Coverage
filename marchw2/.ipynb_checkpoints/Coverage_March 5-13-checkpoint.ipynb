{
 "cells": [
  {
   "cell_type": "markdown",
   "metadata": {},
   "source": [
    "SLAMming with Spheros\n",
    "=====\n",
    "\n",
    "##### IPython Notebook with markdown language\n",
    "To start with, this is my first shot in integrating the agenda, coverage of the entire week as well as the discussion and issues about the thesis work. I prefer this way of making the weekly report for a few reasons - \n",
    "\n",
    " - This document is written on IPython, and it makes it easier for both us due to the integration, Latex compatibility, and online simulation. \n",
    " - Few parts of the document start with the \"%\" which is a magic command to incorporate the result of a Python code in the background. If you wish to see the full code, you can visit the GitHub repository.\n",
    " - The entire work can be easily incorporated into the future thesis report and save time.\n",
    " \n",
    "The overall structure of the weekly report remains the same and at the same time, discusses few parts of my thesis work more elaborately. \n",
    "\n",
    "The full GitHub repository is available at [Coverage](https://github.com/srinivaskandasamy/Coverage)."
   ]
  },
  {
   "cell_type": "markdown",
   "metadata": {},
   "source": [
    "Weekly report \n",
    "====\n",
    "***\n",
    "\n",
    "Thursday, March $5^{th}$, 2015\n",
    "----\n",
    "\n",
    "\n",
    "### Meeting with Tamas\n",
    "\n",
    "1. Maze construction\n",
    "   - Preference of wood over other materials \n",
    "   - Two straight blocks (corridor) for initial work --> *Done*\n",
    "   - Dimensions based on simulation, based on the requirements from simulation --> *Next week*\n",
    "   - Use of connector for modularity in maze construction --> Done\n",
    "2. Need to study the impact data with and without the chariot > Next week's agenda\n",
    "3. Housing for Spheros\n",
    "   - A separate drawer for Sphero or keep it on the chargers outside all the time\n",
    "   - Second option of the above least preferred\n",
    "   - For the first option, the new magic drawer in the distributed lab can not be opened\n",
    "3. Action plan on Google Calendar to be shared with Tamas --> *Done*\n",
    "4. Cover Letter - to make few more additional changes --> *Done*\n",
    "5. Integrate weekly report, action plan and coverage on Google Calendar --> *Done*\n",
    "6. Ph.D. application (mail to ETH, KTH, Siemens, Oxford, Imperial) --> *To KTH*  \n",
    "        \n",
    "### Particle filter implementation in Python\n",
    "\n",
    "1. Standard particle filter to be implemented in Python\n",
    "   - A centralized form of particle filter\n",
    "   - Sequential Importance Resampling"
   ]
  },
  {
   "cell_type": "markdown",
   "metadata": {},
   "source": [
    "Friday, March $6^{th}$, 2015\n",
    "----\n",
    "\n",
    "### Bluetooth issues with IPython\n",
    "\n",
    "Faced bluetooth problems with IPython - Yet to figure out\n",
    "  - Bluetooth package only available in official versions for WinXP and Linux (Eclipse)\n",
    "  - Not able to add the bluetooth plugins for Python in the new workstations \n",
    "  \n",
    "### Particle filter tracking in Python\n",
    "\n",
    "1. Good at estimation\n",
    "2. Requires more resources and in addition, overestimates the state\n",
    "3. Can easily incorporate constraints\n",
    "4. The magic command for the code is shwon below."
   ]
  },
  {
   "cell_type": "code",
   "execution_count": null,
   "metadata": {
    "collapsed": false,
    "scrolled": false
   },
   "outputs": [],
   "source": [
    "# Written in Python and execute in console\n",
    "# help(robot_filter_eup)\n",
    "%run ekf_python_v0.2_m.ipynb"
   ]
  },
  {
   "cell_type": "markdown",
   "metadata": {},
   "source": [
    "> The EKF performs erroneously as it loses consistency by underestimating the position of the robot. Much better version of Bayes filter such as UKF and PF give better numerical accuracy at the expense of computing resources. Note that the red triangle represents the true position of the robot and blue ellipse represents the uncertainty of robot's estimate. "
   ]
  },
  {
   "cell_type": "markdown",
   "metadata": {},
   "source": [
    "Monday, March $9^{th}$, 2015\n",
    "----\n",
    "\n",
    "### Bluetooth issues with unofficial version on IPython\n",
    "\n",
    "1. Plugin issue solved using unofficial versions\n",
    "2. Faced connectivity issues with unofficial ones\n",
    "3. To look into it if i have to work on Spheros using Windows OS"
   ]
  },
  {
   "cell_type": "markdown",
   "metadata": {},
   "source": [
    "Tuesday, March $10^{th}$, 2015\n",
    "----\n",
    "\n",
    "### Collision data logging using Eclipse\n",
    "1. Data logging faster with modular structure of parsing collision stream\n",
    "2. Real time plot to show the effect of collision on the accelerometer values\n",
    "3. Studied the effect of collisions \n",
    "   - Error in calibration due to collision is low (the effect of stability loop on IMU inside the Sphero)\n",
    "   - Prettly good at this self-recalibration\n",
    "   - Need to study the effect of collision on removing this stability loop\n",
    "   - The complete effect of repeated collision on a maze is yet to be studied"
   ]
  },
  {
   "cell_type": "code",
   "execution_count": null,
   "metadata": {
    "collapsed": true
   },
   "outputs": [],
   "source": [
    "# Python code to be executed in console\n",
    "%run collision_test.py"
   ]
  },
  {
   "cell_type": "markdown",
   "metadata": {},
   "source": [
    "Wednesday, March $11^{th}$, 2015\n",
    "----\n",
    "\n",
    "### Ph.D. applications to Oxford, Imperial, Siemens\n",
    "\n",
    "Recommendation letters sent to Tamas, Richard Heusdens and Jan-Willem"
   ]
  },
  {
   "cell_type": "markdown",
   "metadata": {},
   "source": [
    "Thursday, March $12^{th}$, 2015\n",
    "----\n",
    "\n",
    "### Low level planning for Sphero \n",
    "1. Elastic collision planning implemented on Eclipse\n",
    "2. Need maze to verify the result \n",
    "3. Problems related to Sphero roll"
   ]
  },
  {
   "cell_type": "code",
   "execution_count": null,
   "metadata": {
    "collapsed": true
   },
   "outputs": [],
   "source": [
    "# Python code to be executed in console\n",
    "%run cooridor.py"
   ]
  },
  {
   "cell_type": "markdown",
   "metadata": {},
   "source": [
    "Friday, March $13^{th}$, 2015\n",
    "----\n",
    "\n",
    "### Corridor SLAM\n",
    "1. Developing robot trajectory for Sphero\n",
    "2. First to work without incorporation of constraints\n",
    "3. Effect of accelerometer data on position especially during collisions (real-time data rendering over collisions- data to be split over the sequence of collisions)\n",
    "4. Effect of ignoring time data as a monotonically increasing sequence on data association in SLAM has to be studied\n",
    "   - The robustness of data association can improve if this factor can be removed\n",
    "5. A conic estimation problem - probability distribution in the shape of a cone (**Need to ask Tamas' view**)\n",
    "   - Few parameters to propagate (epicenter or the origin and the distribution)\n",
    "   - Better inclusion with equality constraints\n",
    "   - Lower resources than particle filter\n",
    "   - Estimation can be easily as a convex optimization problem\n",
    "   \n",
    "### Sample maze with the help of Aluminium rails from the Wind lab\n",
    "1. A temporary setup\n",
    "2. Need to study the effect of collisions (with and without chariot) on the re-calibration and also the stability loop\n",
    "\n",
    "### Installing the video card on the new machine (TUD0035314)\n",
    "\n",
    "Reference - Manuel Mazo"
   ]
  },
  {
   "cell_type": "markdown",
   "metadata": {},
   "source": [
    "Agenda for the following week\n",
    "====\n",
    "***\n",
    "1. Corridor mapping with and without constraints\n",
    "   - On simulation and with Sphero\n",
    "2. Corridor SLAM\n",
    "   - Simulation"
   ]
  },
  {
   "cell_type": "code",
   "execution_count": 5,
   "metadata": {
    "collapsed": false
   },
   "outputs": [
    {
     "data": {
      "text/html": [
       "<style>\n",
       "    @font-face {\n",
       "        font-family: \"Computer Modern\";\n",
       "        src: url('http://9dbb143991406a7c655e-aa5fcb0a5a4ec34cff238a2d56ca4144.r56.cf5.rackcdn.com/cmunss.otf');\n",
       "    }\n",
       "    @font-face {\n",
       "        font-family: \"Computer Modern\";\n",
       "        font-weight: bold;\n",
       "        src: url('http://9dbb143991406a7c655e-aa5fcb0a5a4ec34cff238a2d56ca4144.r56.cf5.rackcdn.com/cmunsx.otf');\n",
       "    }\n",
       "    @font-face {\n",
       "        font-family: \"Computer Modern\";\n",
       "        font-style: oblique;\n",
       "        src: url('http://9dbb143991406a7c655e-aa5fcb0a5a4ec34cff238a2d56ca4144.r56.cf5.rackcdn.com/cmunsi.otf');\n",
       "    }\n",
       "    @font-face {\n",
       "        font-family: \"Computer Modern\";\n",
       "        font-weight: bold;\n",
       "        font-style: oblique;\n",
       "        src: url('http://9dbb143991406a7c655e-aa5fcb0a5a4ec34cff238a2d56ca4144.r56.cf5.rackcdn.com/cmunso.otf');\n",
       "    }\n",
       "    div.cell{\n",
       "        width:800px;\n",
       "        margin-left:16% !important;\n",
       "        margin-right:auto;\n",
       "    }\n",
       "    h1 {\n",
       "        font-family: Helvetica, serif;\n",
       "    }\n",
       "    h4{\n",
       "        margin-top:12px;\n",
       "        margin-bottom: 3px;\n",
       "       }\n",
       "    div.text_cell_render{\n",
       "        font-family: Computer Modern, \"Helvetica Neue\", Arial, Helvetica, Geneva, sans-serif;\n",
       "        line-height: 145%;\n",
       "        font-size: 130%;\n",
       "        width:800px;\n",
       "        margin-left:auto;\n",
       "        margin-right:auto;\n",
       "    }\n",
       "    .CodeMirror{\n",
       "            font-family: \"Source Code Pro\", source-code-pro,Consolas, monospace;\n",
       "    }\n",
       "    .prompt{\n",
       "        display: None;\n",
       "    }\n",
       "    .text_cell_render h5 {\n",
       "        font-weight: 300;\n",
       "        font-size: 22pt;\n",
       "        color: #4057A1;\n",
       "        font-style: italic;\n",
       "        margin-bottom: .5em;\n",
       "        margin-top: 0.5em;\n",
       "        display: block;\n",
       "    }\n",
       "    \n",
       "    .warning{\n",
       "        color: rgb( 240, 20, 20 )\n",
       "        }  \n",
       "</style>\n",
       "<script>\n",
       "    MathJax.Hub.Config({\n",
       "                        TeX: {\n",
       "                           extensions: [\"AMSmath.js\"]\n",
       "                           },\n",
       "                tex2jax: {\n",
       "                    inlineMath: [ ['$','$'], [\"\\\\(\",\"\\\\)\"] ],\n",
       "                    displayMath: [ ['$$','$$'], [\"\\\\[\",\"\\\\]\"] ]\n",
       "                },\n",
       "                displayAlign: 'center', // Change this to 'center' to center equations.\n",
       "                \"HTML-CSS\": {\n",
       "                    styles: {'.MathJax_Display': {\"margin\": 4}}\n",
       "                }\n",
       "        });\n",
       "</script>\n"
      ],
      "text/plain": [
       "<IPython.core.display.HTML object>"
      ]
     },
     "execution_count": 5,
     "metadata": {},
     "output_type": "execute_result"
    }
   ],
   "source": [
    "from IPython.core.display import HTML\n",
    "\n",
    "\n",
    "def css_styling():\n",
    "    styles = open(\"../styles/custom.css\", \"r\").read()\n",
    "    return HTML(styles)\n",
    "css_styling()"
   ]
  }
 ],
 "metadata": {
  "kernelspec": {
   "display_name": "Python 2",
   "language": "python",
   "name": "python2"
  },
  "language_info": {
   "codemirror_mode": {
    "name": "ipython",
    "version": 2
   },
   "file_extension": ".py",
   "mimetype": "text/x-python",
   "name": "python",
   "nbconvert_exporter": "python",
   "pygments_lexer": "ipython2",
   "version": "2.7.8"
  }
 },
 "nbformat": 4,
 "nbformat_minor": 0
}

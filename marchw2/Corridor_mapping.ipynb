{
 "cells": [
  {
   "cell_type": "code",
   "execution_count": null,
   "metadata": {
    "collapsed": false,
    "scrolled": false
   },
   "outputs": [],
   "source": [
    "# Corridor Mapping\n",
    "\n",
    "%run Corridor_trajectory.ipynb                          # Ground truth\n",
    "\n",
    "from __future__ import division\n",
    "import numpy as np\n",
    "\n",
    "# Lets develop an EKF filter so that we can again estimate the collision points and use them as point landmarks. Later we can use\n",
    "# an SVM/RVM classifier to separate these points. But the only problem is that there are going to several points and we have to \n",
    "# use individual filters for each of them. Even though line representation can perform better in this way which we tried to avoid\n",
    "# in the above situation, we have to find a small cut through in this process. \n",
    "\n",
    "# Trajectory - Actual robot positions - Varialbe - xtraj and ytraj\n",
    "# Observations - collision angles - Variable - obs\n",
    "# Landmark positions - Variable - cor\n",
    "\n",
    "# Hit observations when x=-1 and x=1\n",
    "# Since we are trying yo do EKF, we directly obtain the absolute position of the landmarks as it is same as the robot position \n",
    "# at the instant of collision. Moreover, the mapping problem turns to be same as the localization problem.\n",
    "class corridor_mapping(object):\n",
    "\"\"\" Corridor Mapping\n",
    "\n",
    "Using the randomized robot trajectory, a map of the environment is built assuming the position of the robot is known with \n",
    "certainty. This is a perfect mapping problem for the mobile robot, and this can be extended to SLAM problem provided the model\n",
    "of the robot is known for using the motion model.\"\"\"    \n",
    "    \n",
    "    def __init__(self):\n",
    "        \n",
    "        self.pose = np.matrix('0;0;0')\n",
    "        \n",
    "        self.distance = 0\n",
    "    \n",
    "    \n",
    "    \n",
    "    \n",
    "    \n",
    "    \n",
    "if __name__ == \"__main__\":\n",
    "    \n",
    "    robot = corridor_mapping()                         # Initialize the robot\n",
    "    n = 0                                              # Number of landmarks\n",
    "    R = []\n",
    "    phi = []\n",
    "    ytraj_in = 0\n",
    "    xtraj_in = 0\n",
    "    for i in range(len(xtraj)):                        # Online estimator\n",
    "        \n",
    "        # Robot's prediction and odometry\n",
    "        # Robot's state is the pose of the robot and the added landmarks\n",
    "        robot.xest = np.vstack([xtraj[i], ytraj[i], np.arctan2(ytraj[i]-ytraj_in, xtraj[i] - xtraj_in)]) \n",
    "        \n",
    "#         robot.distance = robot.distance + np.sqrt((xtraj[i] - xtraj_in)**2+(ytraj[i] - ytraj_in)**2)\n",
    "        \n",
    "        # Robot's observation \n",
    "        if xtraj[i] == -d/2 or xtraj[i] == d/2:\n",
    "            \n",
    "            robot.xest = np.vstack([robot.xest, robot.xest[0:2,:], robot.xest])\n",
    "            R.append(robot.distance*np.sin(obs[n])\n",
    "            phi.append()\n",
    "                     \n",
    "            n = n + 1\n",
    "#             robot.distance = 0                        # To reset the value           \n",
    "                     \n",
    "        xtraj_in = xtraj[i]\n",
    "        ytraj_in = ytraj[i]"
   ]
  },
  {
   "cell_type": "code",
   "execution_count": 37,
   "metadata": {
    "collapsed": false
   },
   "outputs": [
    {
     "data": {
      "text/plain": [
       "matrix([[0],\n",
       "        [1]])"
      ]
     },
     "execution_count": 37,
     "metadata": {},
     "output_type": "execute_result"
    }
   ],
   "source": [
    "a = np.matrix('0;1;2')\n",
    "a[0:2,:]"
   ]
  }
 ],
 "metadata": {
  "kernelspec": {
   "display_name": "Python 2",
   "language": "python",
   "name": "python2"
  },
  "language_info": {
   "codemirror_mode": {
    "name": "ipython",
    "version": 2
   },
   "file_extension": ".py",
   "mimetype": "text/x-python",
   "name": "python",
   "nbconvert_exporter": "python",
   "pygments_lexer": "ipython2",
   "version": "2.7.8"
  }
 },
 "nbformat": 4,
 "nbformat_minor": 0
}

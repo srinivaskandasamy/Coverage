{
 "cells": [
  {
   "cell_type": "markdown",
   "metadata": {},
   "source": [
    "SLAMming with Spheros\n",
    "=====\n",
    "\n",
    "##### IPython Notebook\n",
    "The complete coverage is available in at [Coverage](https://github.com/srinivaskandasamy/Coverage/tree/master/aprilw2)"
   ]
  },
  {
   "cell_type": "markdown",
   "metadata": {},
   "source": [
    "Weekly Report\n",
    "====\n",
    "***"
   ]
  },
  {
   "cell_type": "markdown",
   "metadata": {},
   "source": [
    "Wednesday, April $22^{nd}$, 2015\n",
    "----\n",
    "\n",
    "### Meeting with Tamas\n",
    "1. Wooden maze for the Spheros\n",
    "    - Blueprint in consensus with Tamas and Kees\n",
    "    - Further changes made lately\n",
    "2. Wall correction to the maze made perfectly\n",
    "3. Science symposium\n",
    "    - Frank and myself will particiapte\n",
    "    - We will make some practical stuff with the robot and put some videos\n",
    "    - Draft work will be submitted 2-3 days before\n",
    "    - Start to work from May 11"
   ]
  },
  {
   "cell_type": "markdown",
   "metadata": {},
   "source": [
    "Thursday, April $23^{rd}$, 2015\n",
    "----\n",
    "\n",
    "### A Step towards SLAM (Analyzing the possible algorithms in hand)\n",
    "1. Two possible solutions to the SLAM problem\n",
    "    - Nonlinear least squares optimization (NLSO)\n",
    "    - Particle filter solution (FastSLAM)\n",
    "2. The NLSO method is very good at solving the SLAM problem\n",
    "    - Escapes local minima using stochastic gradient search\n",
    "    - Efficient incorporation of observation into the current estimate\n",
    "    - Jacobian involved is sparse which aids in exploiting further computational efficiency\n",
    "3. NLSO also comes with problem with respect to constraints which are difficult to incorporate\n",
    "    - Orthogonality, Equal corridor width\n",
    "    - Wall constraints\n",
    "    - Nonlinear and discontinuous robot pose distribution - Gaussian cannot fit this\n",
    "4. The particle filter solution to SLAM, which is the state-of-the-art in SLAM, is most suitable to our situation\n",
    "    - FastSLAM is solved with occupancy grid maps\n",
    "    - It can incorporate constraints of any form\n",
    "    - The solution is known to produce more accurate maps even when the vehicle pose error is very large\n",
    "    - The solution can be easily integrated at any level (raw data or processed maps) from multiple robots"
   ]
  },
  {
   "cell_type": "markdown",
   "metadata": {},
   "source": [
    "Monday, April $27^{th}$, 2015\n",
    "----\n",
    "\n",
    "### Components needed for FastSLAM algorithm\n",
    "1. Particle fitler for the robot trajectory\n",
    "    - Previous work on the robot tracking can be incorporated\n",
    "    - The previous work contained prediction and resampling step\n",
    "    - The particle filter must address the state of the robot as well as the map\n",
    "    - Each particle must maintain a robot trajectory as well as a set of landmarks\n",
    "2. Measurement data from the robot\n",
    "    - Odometry data from the robot\n",
    "    - Collision data from the robot's accelerometer\n",
    "    - Both the data obtained from previous simulation results\n",
    "    \n",
    "### Modifying particle filters to SLAM (Not straightforward)\n",
    "1. The modification from robot tracking data to SLAM is not straightforwards\n",
    "2. The prediction step is currently a a FSM model\n",
    "    - The next pose of the robot from prediction step is the pose with the next measurement\n",
    "    - Static methods in python added to increase speed and pseudo-access of variables"
   ]
  },
  {
   "cell_type": "markdown",
   "metadata": {},
   "source": [
    "Tuesday, April $28^{th}$, 2015\n",
    "----\n",
    "\n",
    "### Feature definition for collision-SLAM\n",
    "1. The features are defined as point landmarks\n",
    "2. This has to change in future since it is difficult to correct the landmarks on multiple detection of the same wall\n",
    "3. The landmark is defined as a set of mean and covariances, and has to be propagated using EKF\n",
    "\n",
    "### EKF filter for individual landmarks\n",
    "1. EKF update step developed for landmarks\n",
    "2. Measurement function and derivatives developed for landmarks"
   ]
  },
  {
   "cell_type": "markdown",
   "metadata": {},
   "source": [
    "Wednesday to Friday, April $29^{th}$-May $1^{st}$, 2015\n",
    "----\n",
    "\n",
    "### Collision based FastSLAM\n",
    "1. Landmark initialization and update developed\n",
    "2. The threshold criterion is built using the $\\chi^{2}$ criterion\n",
    "3. Landmark likelihoods compared and updated to map using the maximum likelhood criterion\n",
    "\n",
    "### Coding aspects\n",
    "1. Superior class developed for FastSLAM with the particle instantiations\n",
    "2. Resampling done at every step using the resampling wheel technique\n",
    "3. Landmark association is sped up using a pruning technique based on the current robot pose\n",
    "4. The maximum likelihood solution can be generated at every step, along with the robot pose"
   ]
  },
  {
   "cell_type": "markdown",
   "metadata": {},
   "source": [
    "FastSLAM\n",
    "===\n",
    "<img src=\"algorithm.jpg\">"
   ]
  },
  {
   "cell_type": "markdown",
   "metadata": {},
   "source": [
    "## First Solution to FastSLAM"
   ]
  },
  {
   "cell_type": "markdown",
   "metadata": {
    "collapsed": false
   },
   "source": [
    "## True Collision values\n",
    "<img src=\"traj_true.png\">"
   ]
  },
  {
   "cell_type": "markdown",
   "metadata": {},
   "source": [
    "## Estimated Map from FastSLAM\n",
    "<img src=\"traj_est.png\">"
   ]
  },
  {
   "cell_type": "markdown",
   "metadata": {},
   "source": [
    "Monday - Tuesday, May $4^{th}-5^{th}$, 2015\n",
    "----\n",
    "\n",
    "### Feature Initialization\n",
    "1. Gaussian point features will be no more suitable since there was not a single landmark update\n",
    "    - This can be eliminated by selectively updating based on the covariance of landmark on each axis\n",
    "    - A brittle method\n",
    "    - Inclusion of explicit constraints in the correction step, which involves degeneracy in addition to prediction-based measurements\n",
    "2. Gaussian point features has to define multiple mixture componenets, which are difficult to maintain over individual particles\n",
    "3. Wall discontinuities cannot be easily pruned in Gaussian hypothesis as it involves eliminating a hypothesis\n",
    "4. There are two possibilities to go ahead\n",
    "    - Grid-based mapping techniques\n",
    "    - Particle-based mapping\n",
    "    \n",
    "### Grid-based mapping (Official FastSLAM)\n",
    "This technique involves defining the map as an occupancy grid\n",
    "   - Rasterize the entire map as a grid\n",
    "   - Lot of book-keeping\n",
    "       - Map maintained over individual particle\n",
    "       - Gives the most accurate map\n",
    "       \n",
    "### Particle-based mapping\n",
    "Each particle in the FastSLAM algorithm contains a map, which individually contains child particles of the features in the map"
   ]
  },
  {
   "cell_type": "markdown",
   "metadata": {},
   "source": [
    "## Best of All\n",
    "1. Feature based mapping\n",
    "    - All the features are maintained in a tree\n",
    "2. Rasterize over the feature to improve the accuracy of the map\n",
    "    - Easy to prune\n",
    "    - Easy to merge maps\n",
    "3. Degeneracy over the particles can be reduced by including the measurement in the prediction step\n",
    "4. Breakdown of the proposed algorithm\n",
    "    - Particles are used for localizing the robot\n",
    "    - Each particle maintains a map hypothesis in addition to the robot trajectory\n",
    "    - Each hypothesis is defined as a tree data structure\n",
    "    - The leaf nodes of the tree contain the individual features of the map\n",
    "    - The leaf nodes is a histogram, which is propagated over the set of measurements in the algorithms\n",
    "    - The final map and robot trajectory is obtained using the maximum likelihood "
   ]
  },
  {
   "cell_type": "markdown",
   "metadata": {},
   "source": []
  }
 ],
 "metadata": {
  "kernelspec": {
   "display_name": "Python 2",
   "language": "python",
   "name": "python2"
  },
  "language_info": {
   "codemirror_mode": {
    "name": "ipython",
    "version": 2
   },
   "file_extension": ".py",
   "mimetype": "text/x-python",
   "name": "python",
   "nbconvert_exporter": "python",
   "pygments_lexer": "ipython2",
   "version": "2.7.8"
  }
 },
 "nbformat": 4,
 "nbformat_minor": 0
}
